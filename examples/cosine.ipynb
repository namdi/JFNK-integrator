{
 "cells": [
  {
   "cell_type": "markdown",
   "metadata": {},
   "source": [
    "Let's see the performance of the numerical integrator for solving the following stiff, linear ODE system. This file solves the following ordinary differential equation (ODE) system:\n",
    "\n",
    "\\begin{eqnarray*}\n",
    "\t\\frac{dy_1(t)}{dt} &=& \\lambda_1 ( y_1(t) -  \\cos(t) ) - \\sin(t) \\\\\n",
    "\t\\frac{dy_2(t)}{dt} &=& \\lambda_2 ( y_2(t) -  \\cos(t) ) - \\sin(t) \\\\\n",
    "\t\\frac{dy_3(t)}{dt} &=& \\lambda_3 ( y_3(t) -  \\cos(t) ) - \\sin(t)\n",
    "\\end{eqnarray*}\n",
    "\n",
    "where the initial condition is $y_1(0) = y_2(0) = y_3(0) = 1$. $\\lambda_1, \\lambda_2, \\lambda_3$ are constants where $\\lambda_{i} \\le 0$ and control the stiffness of \n",
    "the sytem.\n",
    "\n",
    "The exact solution for this system is \n",
    "\\begin{equation*}\n",
    "\ty_1(t) = y_2(t)= y_3(t) = \\cos(t)\n",
    "\\end{equation*}"
   ]
  },
  {
   "cell_type": "markdown",
   "metadata": {},
   "source": [
    "Import"
   ]
  },
  {
   "cell_type": "code",
   "execution_count": 1,
   "metadata": {
    "collapsed": true
   },
   "outputs": [],
   "source": [
    "import sys\n",
    "sys.path.append('..//source')\n",
    "\n",
    "import matplotlib.pylab as plt\n",
    "import numpy as np\n",
    "import numpy.linalg as LA\n",
    "\n",
    "from scipy.interpolate import CubicSpline\n",
    "import scipy, time \n",
    "\n",
    "import analysis, integrator, params, plotter\n",
    "\n",
    "import points"
   ]
  },
  {
   "cell_type": "code",
   "execution_count": 2,
   "metadata": {
    "collapsed": false
   },
   "outputs": [],
   "source": [
    "%matplotlib notebook"
   ]
  },
  {
   "cell_type": "markdown",
   "metadata": {},
   "source": [
    "--- \n",
    "Functions\n",
    "\n",
    "---"
   ]
  },
  {
   "cell_type": "code",
   "execution_count": 3,
   "metadata": {
    "collapsed": true
   },
   "outputs": [],
   "source": [
    "# the stiffness parameter\n",
    "K_stiff = -1/np.pi * np.array( (1e-3, 1e2, 1e5) )\n",
    "\n",
    "\n",
    "def exact(t, m):\n",
    "    \n",
    "    n = len(t)\n",
    "    y = np.zeros( (n, m) )\n",
    "    \n",
    "    for i in range(m):\n",
    "        y[:,i] = np.cos(t)\n",
    "    \n",
    "    return y\n",
    "\n",
    "def f_eval(t, y):\n",
    "    \n",
    "    \"\"\"\n",
    "    sovling\n",
    "    dy_i/dt = k_i * (y_i - cos(t) ) - sin(t)\n",
    "    \n",
    "    :param float t: the time node\n",
    "    :param numpy.ndarray: y the approximate solution length( m) at time node t\n",
    "    \"\"\"\n",
    "\n",
    "    F = np.zeros( y.shape )\n",
    "    m = len(y)\n",
    "    \n",
    "    # get the component-wise interaction\n",
    "    for i in range(m):              \n",
    "        F[i] = K_stiff[i] * ( y[i] - np.cos(t) ) - np.sin(t)\n",
    "        \n",
    "    return F\n",
    "\n",
    "def get_corrections_norm(D):\n",
    "    \n",
    "    \"\"\"\n",
    "    :param numpy.ndarray D: dimensions (the number of iterations, the number of nodes, the dimension of the problem)\n",
    "    \"\"\"\n",
    "    \n",
    "    y = np.vstack( [ np.linalg.norm(x, axis=0) for x in D] )\n",
    "    \n",
    "    return y\n",
    "\n",
    "def get_stuff(p, dt):\n",
    "        \n",
    "    if p.t[-1] != 1:\n",
    "        t = dt * np.hstack( [p.t, 1])\n",
    "    else:\n",
    "        t = dt * p.t\n",
    "    \n",
    "    S, S_p = dt * p.S, dt * p.S_p\n",
    "    \n",
    "    spectral_radius = p.spectral_radius\n",
    "    node_type = p.node_type\n",
    "    \n",
    "    return t, S, S_p, spectral_radius, node_type\n"
   ]
  },
  {
   "cell_type": "markdown",
   "metadata": {},
   "source": [
    "---\n",
    "Parameters\n",
    "\n",
    "---"
   ]
  },
  {
   "cell_type": "code",
   "execution_count": 4,
   "metadata": {
    "collapsed": true
   },
   "outputs": [],
   "source": [
    "#\n",
    "# set up integration parameters\n",
    "#\n",
    "\n",
    "# the parameters of the simulation\n",
    "n_nodes     = 5\n",
    "\n",
    "# the time step\n",
    "#dt          = np.pi / 4\n",
    "dt          = 1.0\n",
    "\n",
    "# the dimension of the problem\n",
    "m           = 3\n",
    "\n",
    "# the initial solution\n",
    "y0          = np.ones( (m,) )\n",
    "\n",
    "# create the parameter object for Gauss-Lobatto nodes\n",
    "p_lobatto = params.Params(n_nodes=n_nodes, m=m, node_type=points.GAUSS_LOBATTO)\n",
    "\n",
    "# create paramter for radau\n",
    "#p_radau  = params.Params(n_nodes=n_nodes, m=m, node_type=points.GAUSS_RADAU)\n",
    "\n",
    "# create paramter for radau 2a\n",
    "#p_radau_2a = params.Params(n_nodes=n_nodes, m=m, node_type=points.GAUSS_RADAU_2A)\n",
    "\n",
    "# legendre nodes\n",
    "#p_legendre = params.Params(n_nodes=n_nodes, m=m, node_type=points.GAUSS_LEGENDRE)\n",
    "\n",
    "# backward euler, implicit tolerance. Also sused in SDC\n",
    "BE_TOL = 1e-12\n",
    "\n",
    "# SDC solver tolerance\n",
    "SDC_TOL = 1e-12\n",
    "\n",
    "# the maximum number of Newton iterations in the JFNK solver\n",
    "N_ITER_MAX_NEWTON=integrator.N_ITER_MAX_NEWTON"
   ]
  },
  {
   "cell_type": "markdown",
   "metadata": {},
   "source": [
    "---\n",
    "Run one time step\n",
    "\n",
    "---"
   ]
  },
  {
   "cell_type": "markdown",
   "metadata": {},
   "source": [
    "Exact solution"
   ]
  },
  {
   "cell_type": "code",
   "execution_count": 5,
   "metadata": {
    "collapsed": true
   },
   "outputs": [],
   "source": [
    "y_exact = exact(dt * p_lobatto.t, m)"
   ]
  },
  {
   "cell_type": "markdown",
   "metadata": {},
   "source": [
    "Backward Euler"
   ]
  },
  {
   "cell_type": "code",
   "execution_count": 6,
   "metadata": {
    "collapsed": false
   },
   "outputs": [
    {
     "name": "stdout",
     "output_type": "stream",
     "text": [
      "elapsed time: 0.00[s]\n"
     ]
    },
    {
     "data": {
      "text/plain": [
       "0.11507996569196383"
      ]
     },
     "execution_count": 6,
     "metadata": {},
     "output_type": "execute_result"
    }
   ],
   "source": [
    "nodes, S, S_p, spectral_radius, node_type = get_stuff(p_lobatto, dt)\n",
    "y_be = integrator.backward_euler(f_eval, nodes, y0, S_p, be_tol=BE_TOL, do_print=True)\n",
    "\n",
    "t = nodes\n",
    "LA.norm( y_be - y_exact, ord=np.inf)"
   ]
  },
  {
   "cell_type": "markdown",
   "metadata": {},
   "source": [
    "SDC"
   ]
  },
  {
   "cell_type": "code",
   "execution_count": 7,
   "metadata": {
    "collapsed": false
   },
   "outputs": [
    {
     "name": "stdout",
     "output_type": "stream",
     "text": [
      "elapsed time: 0.09[s]\n",
      "SDC converged: True \n"
     ]
    },
    {
     "name": "stderr",
     "output_type": "stream",
     "text": [
      "..//source/analysis.py:140: RuntimeWarning: divide by zero encountered in log10\n",
      "  log_d_norm      = np.log10(d_norm)\n",
      "..//source/analysis.py:141: RuntimeWarning: divide by zero encountered in log10\n",
      "  log_d_norm_rel  = np.log10(d_norm_rel)\n"
     ]
    }
   ],
   "source": [
    "t, S, S_p, spectral_radius, node_type = get_stuff(p_lobatto, dt)\n",
    "\n",
    "# get the provisional solution\n",
    "y_be = integrator.backward_euler(f_eval, t, y0, S_p, be_tol=BE_TOL)\n",
    "\n",
    "# run SDC\n",
    "y_sdc, Y_sdc, D_sdc, is_converged_sdc = integrator.sdc(f_eval, t, y0, y_be, S, S_p, be_tol=BE_TOL, sdc_tol=SDC_TOL, do_print=True)\n",
    "print('SDC converged: %s ' % is_converged_sdc)\n",
    "\n",
    "# the norm of the corrections\n",
    "d_norm_sdc, log_d_norm_sdc, d_norm_rel_sdc, log_d_norm_rel_sdc = analysis.analyze_corrections(D_sdc, Y_sdc)"
   ]
  },
  {
   "cell_type": "markdown",
   "metadata": {},
   "source": [
    "JFNK"
   ]
  },
  {
   "cell_type": "code",
   "execution_count": 8,
   "metadata": {
    "collapsed": false
   },
   "outputs": [
    {
     "name": "stdout",
     "output_type": "stream",
     "text": [
      "elapsed time: 0.02[s]\n",
      "JFNK converged: True \n"
     ]
    },
    {
     "name": "stderr",
     "output_type": "stream",
     "text": [
      "..//source/integrator.py:721: FutureWarning: `rcond` parameter will change to the default of machine precision times ``max(M, N)`` where M and N are the input matrix dimensions.\n",
      "To use the future default and silence this warning we advise to pass `rcond=None`, to keep using the old, explicitly pass `rcond=-1`.\n",
      "  c, res, rank, s = np.linalg.lstsq(B, rhs)\n",
      "..//source/analysis.py:140: RuntimeWarning: divide by zero encountered in log10\n",
      "  log_d_norm      = np.log10(d_norm)\n",
      "..//source/analysis.py:141: RuntimeWarning: divide by zero encountered in log10\n",
      "  log_d_norm_rel  = np.log10(d_norm_rel)\n"
     ]
    }
   ],
   "source": [
    "t, S, S_p, spectral_radius, node_type = get_stuff(p_lobatto, dt)\n",
    "\n",
    "# get the provisional solution\n",
    "y_be = integrator.backward_euler(f_eval, t, y0, S_p, be_tol=BE_TOL)\n",
    "\n",
    "# run the JFNK\n",
    "y_jfnk, Y_jfnk, D_jfnk, is_converged_jfnk, is_stiff,ratios = integrator.jfnk(f_eval, t, y0, y_be, S, S_p, spectral_radius, be_tol=BE_TOL, \\\n",
    "                                                                          sdc_tol=SDC_TOL, do_print=True)\n",
    "print('JFNK converged: %s ' % is_converged_jfnk)\n",
    "\n",
    "# the norm of the corrections\n",
    "d_norm_jfnk, log_d_norm_jfnk, d_norm_rel_jfnk, log_d_norm_rel_jfnk = analysis.analyze_corrections(D_jfnk, Y_jfnk)"
   ]
  },
  {
   "cell_type": "markdown",
   "metadata": {},
   "source": [
    "Spectral solution"
   ]
  },
  {
   "cell_type": "code",
   "execution_count": 9,
   "metadata": {
    "collapsed": false
   },
   "outputs": [
    {
     "name": "stdout",
     "output_type": "stream",
     "text": [
      "0:  |F(x)| = 1.67226e-05; step 1; tol 3.29637e-09\n",
      "1:  |F(x)| = 2.44356e-10; step 1; tol 1.92168e-10\n",
      "2:  |F(x)| = 1.38914e-12; step 1; tol 2.90862e-05\n"
     ]
    }
   ],
   "source": [
    "t, S, S_p, spectral_radius, node_type = get_stuff(p_lobatto, dt)\n",
    "\n",
    "# provisional solution\n",
    "y_be = integrator.backward_euler(f_eval, t, y0, S_p, be_tol=BE_TOL)\n",
    "\n",
    "# spectral solution\n",
    "y_spect = integrator.run_spectral(f_eval, t, y0, S, tol=1e-10, y_approx=y_be, verbose=True)"
   ]
  },
  {
   "cell_type": "markdown",
   "metadata": {},
   "source": [
    "Plot the magnitude of deferred corrections (both SDC and JFNK corrections)"
   ]
  },
  {
   "cell_type": "code",
   "execution_count": 10,
   "metadata": {
    "collapsed": false
   },
   "outputs": [],
   "source": [
    "plt.figure()\n",
    "plt.title('Magnitude of corrections ')\n",
    "\n",
    "plt.plot( range(log_d_norm_sdc.shape[0]), log_d_norm_sdc.max(axis=1), '-o', label='sdc')\n",
    "plt.plot( range(log_d_norm_jfnk.shape[0]), log_d_norm_jfnk.max(axis=1), '-o', label='jfnk')\n",
    "\n",
    "plt.xlabel('SDC iteration')\n",
    "plt.ylabel('log10 (error)')\n",
    "plt.legend(loc='best')\n",
    "\n",
    "plt.show()"
   ]
  },
  {
   "cell_type": "markdown",
   "metadata": {},
   "source": [
    "---\n",
    "Run multiple time steps\n",
    "\n",
    "---"
   ]
  },
  {
   "cell_type": "code",
   "execution_count": 12,
   "metadata": {
    "collapsed": false
   },
   "outputs": [
    {
     "name": "stdout",
     "output_type": "stream",
     "text": [
      "3.6275987284684352 0.3627598728468435\n"
     ]
    }
   ],
   "source": [
    "# final time\n",
    "t_final = np.sqrt(4/3) * np.pi\n",
    "\n",
    "# absolute error tolerance for tol\n",
    "tol = 1e-11\n",
    "\n",
    "# initial time step for the adaptive JFNK algorithm\n",
    "dt_init = t_final / 10\n",
    "\n",
    "print(t_final, dt_init)"
   ]
  },
  {
   "cell_type": "markdown",
   "metadata": {},
   "source": [
    "**Adaptive** JFNK"
   ]
  },
  {
   "cell_type": "code",
   "execution_count": 12,
   "metadata": {
    "collapsed": false
   },
   "outputs": [
    {
     "name": "stderr",
     "output_type": "stream",
     "text": [
      "..//source/integrator.py:721: FutureWarning: `rcond` parameter will change to the default of machine precision times ``max(M, N)`` where M and N are the input matrix dimensions.\n",
      "To use the future default and silence this warning we advise to pass `rcond=None`, to keep using the old, explicitly pass `rcond=-1`.\n",
      "  c, res, rank, s = np.linalg.lstsq(B, rhs)\n"
     ]
    },
    {
     "name": "stdout",
     "output_type": "stream",
     "text": [
      "elapsed time: 1.94[s]\n"
     ]
    }
   ],
   "source": [
    "t_adapt, y_adapt, Y_adapt, D_adapt, h_adapt = integrator.jfnk_adaptive(f_eval, t_init=0, t_final=t_final, dt_init=dt_init, p=p_lobatto, y0=y0, \\\n",
    "                                                                       tol=tol, do_print=True)"
   ]
  },
  {
   "cell_type": "markdown",
   "metadata": {},
   "source": [
    "**Uniform** JFNK"
   ]
  },
  {
   "cell_type": "code",
   "execution_count": 13,
   "metadata": {
    "collapsed": false
   },
   "outputs": [
    {
     "name": "stderr",
     "output_type": "stream",
     "text": [
      "..//source/integrator.py:721: FutureWarning: `rcond` parameter will change to the default of machine precision times ``max(M, N)`` where M and N are the input matrix dimensions.\n",
      "To use the future default and silence this warning we advise to pass `rcond=None`, to keep using the old, explicitly pass `rcond=-1`.\n",
      "  c, res, rank, s = np.linalg.lstsq(B, rhs)\n"
     ]
    },
    {
     "name": "stdout",
     "output_type": "stream",
     "text": [
      "elapsed time: 0.27[s]\n"
     ]
    }
   ],
   "source": [
    "t_uni, y_uni, Y_uni, D_uni = integrator.jfnk_uniform(f_eval, t_init=0, t_final=t_final, n_steps=12, p=p_lobatto, y0=y0, do_print=True)"
   ]
  },
  {
   "cell_type": "markdown",
   "metadata": {},
   "source": [
    "**Reference** solution"
   ]
  },
  {
   "cell_type": "code",
   "execution_count": 14,
   "metadata": {
    "collapsed": false
   },
   "outputs": [
    {
     "name": "stderr",
     "output_type": "stream",
     "text": [
      "..//source/integrator.py:721: FutureWarning: `rcond` parameter will change to the default of machine precision times ``max(M, N)`` where M and N are the input matrix dimensions.\n",
      "To use the future default and silence this warning we advise to pass `rcond=None`, to keep using the old, explicitly pass `rcond=-1`.\n",
      "  c, res, rank, s = np.linalg.lstsq(B, rhs)\n"
     ]
    },
    {
     "name": "stdout",
     "output_type": "stream",
     "text": [
      "elapsed time: 10.46[s]\n"
     ]
    }
   ],
   "source": [
    "# the reference solution\n",
    "n_steps_ref = 100\n",
    "p_ref = params.Params(n_nodes=10, m=m, node_type=points.GAUSS_LOBATTO)\n",
    "\n",
    "t_ref, y_ref, Y_ref, D_ref = integrator.jfnk_uniform(f_eval, t_init=0, t_final=t_final, n_steps=n_steps_ref, p=p_ref, y0=y0, do_print=True)\n",
    "\n",
    "# spline\n",
    "y_spline = CubicSpline(t_ref, y_ref)\n",
    "\n",
    "# errors\n",
    "f = lambda t, y: ( LA.norm( y_spline(t) - y, ord=np.inf), integrator.relative_norm(y_spline(t) - y, y_spline(t)) )"
   ]
  },
  {
   "cell_type": "markdown",
   "metadata": {},
   "source": [
    "Comparing the absolute and relative erros of the **uniform** solution to the reference solution"
   ]
  },
  {
   "cell_type": "code",
   "execution_count": 15,
   "metadata": {
    "collapsed": false
   },
   "outputs": [
    {
     "data": {
      "text/plain": [
       "(3.5825586941484744e-09, 1.5841824829072928e-09)"
      ]
     },
     "execution_count": 15,
     "metadata": {},
     "output_type": "execute_result"
    }
   ],
   "source": [
    "f(t_uni, y_uni)"
   ]
  },
  {
   "cell_type": "markdown",
   "metadata": {},
   "source": [
    "Comparing the absolute and relative errors of the **adaptive** solution to the reference solution"
   ]
  },
  {
   "cell_type": "code",
   "execution_count": 16,
   "metadata": {
    "collapsed": false
   },
   "outputs": [
    {
     "data": {
      "text/plain": [
       "(2.132772847218689e-10, 3.411275342907868e-11)"
      ]
     },
     "execution_count": 16,
     "metadata": {},
     "output_type": "execute_result"
    }
   ],
   "source": [
    "f(t_adapt, y_adapt)"
   ]
  },
  {
   "cell_type": "markdown",
   "metadata": {},
   "source": [
    "---\n",
    "Plot the JFNK corrections for each time step \n",
    "\n",
    "---"
   ]
  },
  {
   "cell_type": "code",
   "execution_count": 17,
   "metadata": {
    "collapsed": true
   },
   "outputs": [],
   "source": [
    "plotter.plot_correction_time_steps(D_uni, Y_uni)\n",
    "\n",
    "plt.show()"
   ]
  },
  {
   "cell_type": "markdown",
   "metadata": {},
   "source": [
    "Plot norm of corrections comparing "
   ]
  },
  {
   "cell_type": "code",
   "execution_count": 18,
   "metadata": {
    "collapsed": false
   },
   "outputs": [
    {
     "name": "stderr",
     "output_type": "stream",
     "text": [
      "..//source/plotter.py:150: RuntimeWarning: divide by zero encountered in log10\n",
      "  temp = ax.plot(np.log10(y), ls, label=label)\n",
      "/opt/local/Library/Frameworks/Python.framework/Versions/3.4/lib/python3.4/site-packages/matplotlib/legend.py:337: UserWarning: Automatic legend placement (loc=\"best\") not implemented for figure legend. Falling back on \"upper right\".\n",
      "  warnings.warn('Automatic legend placement (loc=\"best\") not '\n"
     ]
    }
   ],
   "source": [
    "y_spect_norm = LA.norm(y_spect, axis=0)\n",
    "\n",
    "labels=['y1', 'y2', 'y3']\n",
    "\n",
    "plotter.corrections(d_norm_sdc, d_norm_jfnk, y_spect_norm, do_rerr=True, labels=labels, do_legend=True)\n",
    "plt.show()"
   ]
  },
  {
   "cell_type": "markdown",
   "metadata": {},
   "source": [
    "---\n",
    "Errors\n",
    "\n",
    "---"
   ]
  },
  {
   "cell_type": "markdown",
   "metadata": {},
   "source": [
    "calculate absolute errors, relative errors"
   ]
  },
  {
   "cell_type": "code",
   "execution_count": 20,
   "metadata": {
    "collapsed": true
   },
   "outputs": [],
   "source": [
    "# absolute error, relative error\n",
    "\n",
    "# error exact solution vs. spectral solution\n",
    "aerr_spect, rerr_spect = analysis.error_analysis(y_spect, y_exact)\n",
    "\n",
    "# spectral solution vs. backward euler solution\n",
    "aerr_be, rerr_be = analysis.error_analysis(y_be, y_spect)\n",
    "\n",
    "# spectral solution vs. SDC solution\n",
    "aerr_sdc, rerr_sdc = analysis.error_analysis(y_sdc, y_spect)\n",
    "\n",
    "# spectral solution vs. JFNK solution\n",
    "aerr_jfnk, rerr_jfnk = analysis.error_analysis(y_jfnk, y_spect)"
   ]
  },
  {
   "cell_type": "code",
   "execution_count": null,
   "metadata": {
    "collapsed": true
   },
   "outputs": [],
   "source": []
  }
 ],
 "metadata": {
  "anaconda-cloud": {},
  "kernelspec": {
   "display_name": "Python [anaconda]",
   "language": "python",
   "name": "Python [anaconda]"
  },
  "language_info": {
   "codemirror_mode": {
    "name": "ipython",
    "version": 3
   },
   "file_extension": ".py",
   "mimetype": "text/x-python",
   "name": "python",
   "nbconvert_exporter": "python",
   "pygments_lexer": "ipython3",
   "version": "3.5.2"
  }
 },
 "nbformat": 4,
 "nbformat_minor": 2
}
